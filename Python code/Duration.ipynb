{
 "cells": [
  {
   "cell_type": "code",
   "execution_count": 3,
   "metadata": {},
   "outputs": [],
   "source": [
    "df= pd.read_csv(f'ManhP.csv',error_bad_lines=False)"
   ]
  },
  {
   "cell_type": "code",
   "execution_count": 1,
   "metadata": {},
   "outputs": [],
   "source": [
    "import numpy as np\n",
    "import pandas as pd\n",
    "import matplotlib.pyplot as plt\n",
    "import seaborn as sns\n",
    "import datetime\n",
    "sns.set()"
   ]
  },
  {
   "cell_type": "code",
   "execution_count": 4,
   "metadata": {},
   "outputs": [
    {
     "data": {
      "text/plain": [
       "Unnamed: 0                 int64\n",
       "Unnamed: 0.1               int64\n",
       "LocationID                 int64\n",
       "zone                      object\n",
       "lpep_pickup_datetime      object\n",
       "lpep_dropoff_datetime     object\n",
       "store_and_fwd_flag        object\n",
       "RatecodeID               float64\n",
       "PULocationID               int64\n",
       "DOLocationID               int64\n",
       "passenger_count          float64\n",
       "trip_distance            float64\n",
       "fare_amount              float64\n",
       "extra                    float64\n",
       "mta_tax                  float64\n",
       "tip_amount               float64\n",
       "tolls_amount             float64\n",
       "ehail_fee                float64\n",
       "improvement_surcharge    float64\n",
       "total_amount             float64\n",
       "payment_type             float64\n",
       "trip_type                float64\n",
       "congestion_surcharge     float64\n",
       "dtype: object"
      ]
     },
     "execution_count": 4,
     "metadata": {},
     "output_type": "execute_result"
    }
   ],
   "source": [
    "df.dtypes"
   ]
  },
  {
   "cell_type": "code",
   "execution_count": 5,
   "metadata": {},
   "outputs": [
    {
     "data": {
      "text/html": [
       "<div>\n",
       "<style scoped>\n",
       "    .dataframe tbody tr th:only-of-type {\n",
       "        vertical-align: middle;\n",
       "    }\n",
       "\n",
       "    .dataframe tbody tr th {\n",
       "        vertical-align: top;\n",
       "    }\n",
       "\n",
       "    .dataframe thead th {\n",
       "        text-align: right;\n",
       "    }\n",
       "</style>\n",
       "<table border=\"1\" class=\"dataframe\">\n",
       "  <thead>\n",
       "    <tr style=\"text-align: right;\">\n",
       "      <th></th>\n",
       "      <th>Unnamed: 0</th>\n",
       "      <th>Unnamed: 0.1</th>\n",
       "      <th>LocationID</th>\n",
       "      <th>zone</th>\n",
       "      <th>lpep_pickup_datetime</th>\n",
       "      <th>lpep_dropoff_datetime</th>\n",
       "      <th>store_and_fwd_flag</th>\n",
       "      <th>RatecodeID</th>\n",
       "      <th>PULocationID</th>\n",
       "      <th>DOLocationID</th>\n",
       "      <th>...</th>\n",
       "      <th>extra</th>\n",
       "      <th>mta_tax</th>\n",
       "      <th>tip_amount</th>\n",
       "      <th>tolls_amount</th>\n",
       "      <th>ehail_fee</th>\n",
       "      <th>improvement_surcharge</th>\n",
       "      <th>total_amount</th>\n",
       "      <th>payment_type</th>\n",
       "      <th>trip_type</th>\n",
       "      <th>congestion_surcharge</th>\n",
       "    </tr>\n",
       "  </thead>\n",
       "  <tbody>\n",
       "    <tr>\n",
       "      <th>0</th>\n",
       "      <td>0</td>\n",
       "      <td>0</td>\n",
       "      <td>4</td>\n",
       "      <td>Alphabet City</td>\n",
       "      <td>2020-02-02 17:19:57</td>\n",
       "      <td>2020-02-02 17:36:21</td>\n",
       "      <td>N</td>\n",
       "      <td>1.0</td>\n",
       "      <td>4</td>\n",
       "      <td>256</td>\n",
       "      <td>...</td>\n",
       "      <td>0.0</td>\n",
       "      <td>0.5</td>\n",
       "      <td>0.0</td>\n",
       "      <td>0.00</td>\n",
       "      <td>NaN</td>\n",
       "      <td>0.3</td>\n",
       "      <td>14.80</td>\n",
       "      <td>1.0</td>\n",
       "      <td>1.0</td>\n",
       "      <td>0.0</td>\n",
       "    </tr>\n",
       "    <tr>\n",
       "      <th>1</th>\n",
       "      <td>1</td>\n",
       "      <td>1</td>\n",
       "      <td>4</td>\n",
       "      <td>Alphabet City</td>\n",
       "      <td>2020-02-03 16:24:10</td>\n",
       "      <td>2020-02-03 16:57:50</td>\n",
       "      <td>N</td>\n",
       "      <td>1.0</td>\n",
       "      <td>4</td>\n",
       "      <td>159</td>\n",
       "      <td>...</td>\n",
       "      <td>0.0</td>\n",
       "      <td>0.5</td>\n",
       "      <td>0.0</td>\n",
       "      <td>6.12</td>\n",
       "      <td>NaN</td>\n",
       "      <td>0.3</td>\n",
       "      <td>35.12</td>\n",
       "      <td>1.0</td>\n",
       "      <td>1.0</td>\n",
       "      <td>0.0</td>\n",
       "    </tr>\n",
       "    <tr>\n",
       "      <th>2</th>\n",
       "      <td>2</td>\n",
       "      <td>2</td>\n",
       "      <td>4</td>\n",
       "      <td>Alphabet City</td>\n",
       "      <td>2020-02-05 17:37:42</td>\n",
       "      <td>2020-02-05 17:51:22</td>\n",
       "      <td>N</td>\n",
       "      <td>1.0</td>\n",
       "      <td>4</td>\n",
       "      <td>256</td>\n",
       "      <td>...</td>\n",
       "      <td>1.0</td>\n",
       "      <td>0.5</td>\n",
       "      <td>0.0</td>\n",
       "      <td>0.00</td>\n",
       "      <td>NaN</td>\n",
       "      <td>0.3</td>\n",
       "      <td>14.30</td>\n",
       "      <td>1.0</td>\n",
       "      <td>1.0</td>\n",
       "      <td>0.0</td>\n",
       "    </tr>\n",
       "    <tr>\n",
       "      <th>3</th>\n",
       "      <td>3</td>\n",
       "      <td>3</td>\n",
       "      <td>4</td>\n",
       "      <td>Alphabet City</td>\n",
       "      <td>2020-02-25 18:23:48</td>\n",
       "      <td>2020-02-25 18:41:42</td>\n",
       "      <td>N</td>\n",
       "      <td>1.0</td>\n",
       "      <td>4</td>\n",
       "      <td>256</td>\n",
       "      <td>...</td>\n",
       "      <td>1.0</td>\n",
       "      <td>0.5</td>\n",
       "      <td>0.0</td>\n",
       "      <td>0.00</td>\n",
       "      <td>NaN</td>\n",
       "      <td>0.3</td>\n",
       "      <td>15.80</td>\n",
       "      <td>1.0</td>\n",
       "      <td>1.0</td>\n",
       "      <td>0.0</td>\n",
       "    </tr>\n",
       "    <tr>\n",
       "      <th>4</th>\n",
       "      <td>4</td>\n",
       "      <td>4</td>\n",
       "      <td>4</td>\n",
       "      <td>Alphabet City</td>\n",
       "      <td>2020-02-26 12:39:51</td>\n",
       "      <td>2020-02-26 12:51:07</td>\n",
       "      <td>N</td>\n",
       "      <td>1.0</td>\n",
       "      <td>4</td>\n",
       "      <td>148</td>\n",
       "      <td>...</td>\n",
       "      <td>0.0</td>\n",
       "      <td>0.5</td>\n",
       "      <td>0.0</td>\n",
       "      <td>0.00</td>\n",
       "      <td>NaN</td>\n",
       "      <td>0.3</td>\n",
       "      <td>9.30</td>\n",
       "      <td>1.0</td>\n",
       "      <td>1.0</td>\n",
       "      <td>0.0</td>\n",
       "    </tr>\n",
       "  </tbody>\n",
       "</table>\n",
       "<p>5 rows × 23 columns</p>\n",
       "</div>"
      ],
      "text/plain": [
       "   Unnamed: 0  Unnamed: 0.1  LocationID           zone lpep_pickup_datetime  \\\n",
       "0           0             0           4  Alphabet City  2020-02-02 17:19:57   \n",
       "1           1             1           4  Alphabet City  2020-02-03 16:24:10   \n",
       "2           2             2           4  Alphabet City  2020-02-05 17:37:42   \n",
       "3           3             3           4  Alphabet City  2020-02-25 18:23:48   \n",
       "4           4             4           4  Alphabet City  2020-02-26 12:39:51   \n",
       "\n",
       "  lpep_dropoff_datetime store_and_fwd_flag  RatecodeID  PULocationID  \\\n",
       "0   2020-02-02 17:36:21                  N         1.0             4   \n",
       "1   2020-02-03 16:57:50                  N         1.0             4   \n",
       "2   2020-02-05 17:51:22                  N         1.0             4   \n",
       "3   2020-02-25 18:41:42                  N         1.0             4   \n",
       "4   2020-02-26 12:51:07                  N         1.0             4   \n",
       "\n",
       "   DOLocationID  ...  extra  mta_tax  tip_amount  tolls_amount  ehail_fee  \\\n",
       "0           256  ...    0.0      0.5         0.0          0.00        NaN   \n",
       "1           159  ...    0.0      0.5         0.0          6.12        NaN   \n",
       "2           256  ...    1.0      0.5         0.0          0.00        NaN   \n",
       "3           256  ...    1.0      0.5         0.0          0.00        NaN   \n",
       "4           148  ...    0.0      0.5         0.0          0.00        NaN   \n",
       "\n",
       "   improvement_surcharge  total_amount  payment_type  trip_type  \\\n",
       "0                    0.3         14.80           1.0        1.0   \n",
       "1                    0.3         35.12           1.0        1.0   \n",
       "2                    0.3         14.30           1.0        1.0   \n",
       "3                    0.3         15.80           1.0        1.0   \n",
       "4                    0.3          9.30           1.0        1.0   \n",
       "\n",
       "   congestion_surcharge  \n",
       "0                   0.0  \n",
       "1                   0.0  \n",
       "2                   0.0  \n",
       "3                   0.0  \n",
       "4                   0.0  \n",
       "\n",
       "[5 rows x 23 columns]"
      ]
     },
     "execution_count": 5,
     "metadata": {},
     "output_type": "execute_result"
    }
   ],
   "source": [
    "df.head()"
   ]
  },
  {
   "cell_type": "code",
   "execution_count": 6,
   "metadata": {},
   "outputs": [
    {
     "data": {
      "text/html": [
       "<div>\n",
       "<style scoped>\n",
       "    .dataframe tbody tr th:only-of-type {\n",
       "        vertical-align: middle;\n",
       "    }\n",
       "\n",
       "    .dataframe tbody tr th {\n",
       "        vertical-align: top;\n",
       "    }\n",
       "\n",
       "    .dataframe thead th {\n",
       "        text-align: right;\n",
       "    }\n",
       "</style>\n",
       "<table border=\"1\" class=\"dataframe\">\n",
       "  <thead>\n",
       "    <tr style=\"text-align: right;\">\n",
       "      <th></th>\n",
       "      <th>Unnamed: 0</th>\n",
       "      <th>Unnamed: 0.1</th>\n",
       "      <th>LocationID</th>\n",
       "      <th>RatecodeID</th>\n",
       "      <th>PULocationID</th>\n",
       "      <th>DOLocationID</th>\n",
       "      <th>passenger_count</th>\n",
       "      <th>trip_distance</th>\n",
       "      <th>fare_amount</th>\n",
       "      <th>extra</th>\n",
       "      <th>mta_tax</th>\n",
       "      <th>tip_amount</th>\n",
       "      <th>tolls_amount</th>\n",
       "      <th>ehail_fee</th>\n",
       "      <th>improvement_surcharge</th>\n",
       "      <th>total_amount</th>\n",
       "      <th>payment_type</th>\n",
       "      <th>trip_type</th>\n",
       "      <th>congestion_surcharge</th>\n",
       "    </tr>\n",
       "  </thead>\n",
       "  <tbody>\n",
       "    <tr>\n",
       "      <th>count</th>\n",
       "      <td>799136.000000</td>\n",
       "      <td>799136.000000</td>\n",
       "      <td>799136.000000</td>\n",
       "      <td>712201.000000</td>\n",
       "      <td>799136.000000</td>\n",
       "      <td>799136.000000</td>\n",
       "      <td>712201.000000</td>\n",
       "      <td>799136.000000</td>\n",
       "      <td>799136.000000</td>\n",
       "      <td>799136.000000</td>\n",
       "      <td>799136.000000</td>\n",
       "      <td>799136.000000</td>\n",
       "      <td>799136.000000</td>\n",
       "      <td>0.0</td>\n",
       "      <td>799136.000000</td>\n",
       "      <td>799136.000000</td>\n",
       "      <td>712201.000000</td>\n",
       "      <td>712201.000000</td>\n",
       "      <td>712201.000000</td>\n",
       "    </tr>\n",
       "    <tr>\n",
       "      <th>mean</th>\n",
       "      <td>399567.500000</td>\n",
       "      <td>51318.653510</td>\n",
       "      <td>95.831574</td>\n",
       "      <td>1.056167</td>\n",
       "      <td>95.831574</td>\n",
       "      <td>132.630396</td>\n",
       "      <td>1.288323</td>\n",
       "      <td>5.203530</td>\n",
       "      <td>12.702850</td>\n",
       "      <td>0.495204</td>\n",
       "      <td>0.441607</td>\n",
       "      <td>1.240516</td>\n",
       "      <td>0.259148</td>\n",
       "      <td>NaN</td>\n",
       "      <td>0.296478</td>\n",
       "      <td>16.046014</td>\n",
       "      <td>1.461764</td>\n",
       "      <td>1.013840</td>\n",
       "      <td>0.778287</td>\n",
       "    </tr>\n",
       "    <tr>\n",
       "      <th>std</th>\n",
       "      <td>230690.836698</td>\n",
       "      <td>43272.491637</td>\n",
       "      <td>63.528658</td>\n",
       "      <td>0.458746</td>\n",
       "      <td>63.528658</td>\n",
       "      <td>78.268912</td>\n",
       "      <td>0.971627</td>\n",
       "      <td>462.099536</td>\n",
       "      <td>10.410434</td>\n",
       "      <td>0.856652</td>\n",
       "      <td>0.164687</td>\n",
       "      <td>2.066277</td>\n",
       "      <td>1.289457</td>\n",
       "      <td>NaN</td>\n",
       "      <td>0.038555</td>\n",
       "      <td>12.124520</td>\n",
       "      <td>0.520594</td>\n",
       "      <td>0.116827</td>\n",
       "      <td>1.238685</td>\n",
       "    </tr>\n",
       "    <tr>\n",
       "      <th>min</th>\n",
       "      <td>0.000000</td>\n",
       "      <td>0.000000</td>\n",
       "      <td>4.000000</td>\n",
       "      <td>1.000000</td>\n",
       "      <td>4.000000</td>\n",
       "      <td>1.000000</td>\n",
       "      <td>0.000000</td>\n",
       "      <td>-33.690000</td>\n",
       "      <td>-70.090000</td>\n",
       "      <td>-4.500000</td>\n",
       "      <td>-0.500000</td>\n",
       "      <td>-2.800000</td>\n",
       "      <td>-6.120000</td>\n",
       "      <td>NaN</td>\n",
       "      <td>-0.300000</td>\n",
       "      <td>-65.800000</td>\n",
       "      <td>1.000000</td>\n",
       "      <td>1.000000</td>\n",
       "      <td>-2.750000</td>\n",
       "    </tr>\n",
       "    <tr>\n",
       "      <th>25%</th>\n",
       "      <td>199783.750000</td>\n",
       "      <td>15367.750000</td>\n",
       "      <td>42.000000</td>\n",
       "      <td>1.000000</td>\n",
       "      <td>42.000000</td>\n",
       "      <td>71.000000</td>\n",
       "      <td>1.000000</td>\n",
       "      <td>1.000000</td>\n",
       "      <td>6.500000</td>\n",
       "      <td>0.000000</td>\n",
       "      <td>0.500000</td>\n",
       "      <td>0.000000</td>\n",
       "      <td>0.000000</td>\n",
       "      <td>NaN</td>\n",
       "      <td>0.300000</td>\n",
       "      <td>8.190000</td>\n",
       "      <td>1.000000</td>\n",
       "      <td>1.000000</td>\n",
       "      <td>0.000000</td>\n",
       "    </tr>\n",
       "    <tr>\n",
       "      <th>50%</th>\n",
       "      <td>399567.500000</td>\n",
       "      <td>33806.000000</td>\n",
       "      <td>74.000000</td>\n",
       "      <td>1.000000</td>\n",
       "      <td>74.000000</td>\n",
       "      <td>131.000000</td>\n",
       "      <td>1.000000</td>\n",
       "      <td>1.700000</td>\n",
       "      <td>9.000000</td>\n",
       "      <td>0.000000</td>\n",
       "      <td>0.500000</td>\n",
       "      <td>0.000000</td>\n",
       "      <td>0.000000</td>\n",
       "      <td>NaN</td>\n",
       "      <td>0.300000</td>\n",
       "      <td>12.060000</td>\n",
       "      <td>1.000000</td>\n",
       "      <td>1.000000</td>\n",
       "      <td>0.000000</td>\n",
       "    </tr>\n",
       "    <tr>\n",
       "      <th>75%</th>\n",
       "      <td>599351.250000</td>\n",
       "      <td>82847.000000</td>\n",
       "      <td>116.000000</td>\n",
       "      <td>1.000000</td>\n",
       "      <td>116.000000</td>\n",
       "      <td>225.000000</td>\n",
       "      <td>1.000000</td>\n",
       "      <td>3.330000</td>\n",
       "      <td>15.500000</td>\n",
       "      <td>1.000000</td>\n",
       "      <td>0.500000</td>\n",
       "      <td>2.150000</td>\n",
       "      <td>0.000000</td>\n",
       "      <td>NaN</td>\n",
       "      <td>0.300000</td>\n",
       "      <td>20.050000</td>\n",
       "      <td>2.000000</td>\n",
       "      <td>1.000000</td>\n",
       "      <td>2.750000</td>\n",
       "    </tr>\n",
       "    <tr>\n",
       "      <th>max</th>\n",
       "      <td>799135.000000</td>\n",
       "      <td>154420.000000</td>\n",
       "      <td>263.000000</td>\n",
       "      <td>6.000000</td>\n",
       "      <td>263.000000</td>\n",
       "      <td>265.000000</td>\n",
       "      <td>9.000000</td>\n",
       "      <td>170783.440000</td>\n",
       "      <td>803.000000</td>\n",
       "      <td>8.250000</td>\n",
       "      <td>3.550000</td>\n",
       "      <td>449.600000</td>\n",
       "      <td>96.120000</td>\n",
       "      <td>NaN</td>\n",
       "      <td>0.300000</td>\n",
       "      <td>803.800000</td>\n",
       "      <td>5.000000</td>\n",
       "      <td>2.000000</td>\n",
       "      <td>2.750000</td>\n",
       "    </tr>\n",
       "  </tbody>\n",
       "</table>\n",
       "</div>"
      ],
      "text/plain": [
       "          Unnamed: 0   Unnamed: 0.1     LocationID     RatecodeID  \\\n",
       "count  799136.000000  799136.000000  799136.000000  712201.000000   \n",
       "mean   399567.500000   51318.653510      95.831574       1.056167   \n",
       "std    230690.836698   43272.491637      63.528658       0.458746   \n",
       "min         0.000000       0.000000       4.000000       1.000000   \n",
       "25%    199783.750000   15367.750000      42.000000       1.000000   \n",
       "50%    399567.500000   33806.000000      74.000000       1.000000   \n",
       "75%    599351.250000   82847.000000     116.000000       1.000000   \n",
       "max    799135.000000  154420.000000     263.000000       6.000000   \n",
       "\n",
       "        PULocationID   DOLocationID  passenger_count  trip_distance  \\\n",
       "count  799136.000000  799136.000000    712201.000000  799136.000000   \n",
       "mean       95.831574     132.630396         1.288323       5.203530   \n",
       "std        63.528658      78.268912         0.971627     462.099536   \n",
       "min         4.000000       1.000000         0.000000     -33.690000   \n",
       "25%        42.000000      71.000000         1.000000       1.000000   \n",
       "50%        74.000000     131.000000         1.000000       1.700000   \n",
       "75%       116.000000     225.000000         1.000000       3.330000   \n",
       "max       263.000000     265.000000         9.000000  170783.440000   \n",
       "\n",
       "         fare_amount          extra        mta_tax     tip_amount  \\\n",
       "count  799136.000000  799136.000000  799136.000000  799136.000000   \n",
       "mean       12.702850       0.495204       0.441607       1.240516   \n",
       "std        10.410434       0.856652       0.164687       2.066277   \n",
       "min       -70.090000      -4.500000      -0.500000      -2.800000   \n",
       "25%         6.500000       0.000000       0.500000       0.000000   \n",
       "50%         9.000000       0.000000       0.500000       0.000000   \n",
       "75%        15.500000       1.000000       0.500000       2.150000   \n",
       "max       803.000000       8.250000       3.550000     449.600000   \n",
       "\n",
       "        tolls_amount  ehail_fee  improvement_surcharge   total_amount  \\\n",
       "count  799136.000000        0.0          799136.000000  799136.000000   \n",
       "mean        0.259148        NaN               0.296478      16.046014   \n",
       "std         1.289457        NaN               0.038555      12.124520   \n",
       "min        -6.120000        NaN              -0.300000     -65.800000   \n",
       "25%         0.000000        NaN               0.300000       8.190000   \n",
       "50%         0.000000        NaN               0.300000      12.060000   \n",
       "75%         0.000000        NaN               0.300000      20.050000   \n",
       "max        96.120000        NaN               0.300000     803.800000   \n",
       "\n",
       "        payment_type      trip_type  congestion_surcharge  \n",
       "count  712201.000000  712201.000000         712201.000000  \n",
       "mean        1.461764       1.013840              0.778287  \n",
       "std         0.520594       0.116827              1.238685  \n",
       "min         1.000000       1.000000             -2.750000  \n",
       "25%         1.000000       1.000000              0.000000  \n",
       "50%         1.000000       1.000000              0.000000  \n",
       "75%         2.000000       1.000000              2.750000  \n",
       "max         5.000000       2.000000              2.750000  "
      ]
     },
     "execution_count": 6,
     "metadata": {},
     "output_type": "execute_result"
    }
   ],
   "source": [
    "df.describe()"
   ]
  },
  {
   "cell_type": "code",
   "execution_count": 7,
   "metadata": {},
   "outputs": [
    {
     "data": {
      "text/plain": [
       "(799136, 23)"
      ]
     },
     "execution_count": 7,
     "metadata": {},
     "output_type": "execute_result"
    }
   ],
   "source": [
    "df.shape"
   ]
  },
  {
   "cell_type": "code",
   "execution_count": 11,
   "metadata": {},
   "outputs": [
    {
     "name": "stdout",
     "output_type": "stream",
     "text": [
      "Unnamed: 0               799136\n",
      "lpep_pickup_datetime     799136\n",
      "lpep_dropoff_datetime    799136\n",
      "store_and_fwd_flag       712201\n",
      "dtype: int64\n"
     ]
    }
   ],
   "source": [
    "non_num_cols=['Unnamed: 0','lpep_pickup_datetime','lpep_dropoff_datetime','store_and_fwd_flag']\n",
    "print(df[non_num_cols].count())"
   ]
  },
  {
   "cell_type": "code",
   "execution_count": null,
   "metadata": {},
   "outputs": [],
   "source": []
  },
  {
   "cell_type": "code",
   "execution_count": 13,
   "metadata": {},
   "outputs": [],
   "source": [
    "df['pickup_datetime']=pd.to_datetime(df['lpep_pickup_datetime'])\n",
    "df['dropoff_datetime']=pd.to_datetime(df['lpep_dropoff_datetime'])"
   ]
  },
  {
   "cell_type": "code",
   "execution_count": 15,
   "metadata": {},
   "outputs": [
    {
     "data": {
      "text/plain": [
       "621348"
      ]
     },
     "execution_count": 15,
     "metadata": {},
     "output_type": "execute_result"
    }
   ],
   "source": [
    "df['pickup_datetime'].nunique()\n"
   ]
  },
  {
   "cell_type": "code",
   "execution_count": 16,
   "metadata": {},
   "outputs": [
    {
     "data": {
      "text/plain": [
       "621662"
      ]
     },
     "execution_count": 16,
     "metadata": {},
     "output_type": "execute_result"
    }
   ],
   "source": [
    "df['dropoff_datetime'].nunique()"
   ]
  },
  {
   "cell_type": "code",
   "execution_count": 17,
   "metadata": {},
   "outputs": [],
   "source": [
    "df['pickup_day']=df['pickup_datetime'].dt.day_name()\n",
    "df['dropoff_day']=df['dropoff_datetime'].dt.day_name()"
   ]
  },
  {
   "cell_type": "code",
   "execution_count": 18,
   "metadata": {},
   "outputs": [
    {
     "data": {
      "text/plain": [
       "Friday       131269\n",
       "Thursday     128989\n",
       "Wednesday    125256\n",
       "Tuesday      117103\n",
       "Monday       110596\n",
       "Saturday     104690\n",
       "Sunday        81233\n",
       "Name: pickup_day, dtype: int64"
      ]
     },
     "execution_count": 18,
     "metadata": {},
     "output_type": "execute_result"
    }
   ],
   "source": [
    "df['pickup_day'].value_counts()"
   ]
  },
  {
   "cell_type": "code",
   "execution_count": 19,
   "metadata": {},
   "outputs": [
    {
     "data": {
      "text/plain": [
       "Friday       131066\n",
       "Thursday     128899\n",
       "Wednesday    125239\n",
       "Tuesday      117039\n",
       "Monday       110610\n",
       "Saturday     104710\n",
       "Sunday        81573\n",
       "Name: dropoff_day, dtype: int64"
      ]
     },
     "execution_count": 19,
     "metadata": {},
     "output_type": "execute_result"
    }
   ],
   "source": [
    "df['dropoff_day'].value_counts()"
   ]
  },
  {
   "cell_type": "code",
   "execution_count": 21,
   "metadata": {},
   "outputs": [
    {
     "data": {
      "image/png": "[encoded data removed]",
      "text/plain": [
       "<Figure size 720x720 with 2 Axes>"
      ]
     },
     "metadata": {},
     "output_type": "display_data"
    }
   ],
   "source": [
    "figure,ax=plt.subplots(nrows=2,ncols=1,figsize=(10,10))\n",
    "sns.countplot(x='pickup_day',data=df,ax=ax[0])\n",
    "\n",
    "ax[0].set_title('Number of Pickups done on each day of the week')\n",
    "sns.countplot(x='dropoff_day',data=df,ax=ax[1])\n",
    "\n",
    "ax[1].set_title('Number of dropoffs done on each day of the week')\n",
    "plt.tight_layout()"
   ]
  },
  {
   "cell_type": "code",
   "execution_count": null,
   "metadata": {},
   "outputs": [],
   "source": [
    "lpep_pickup_datetime','lpep_dropoff_datetime"
   ]
  },
  {
   "cell_type": "code",
   "execution_count": 33,
   "metadata": {},
   "outputs": [],
   "source": [
    "df['pickup_datetime']=pd.to_datetime(df['lpep_pickup_datetime'])\n",
    "df['dropoff_datetime']=pd.to_datetime(df['lpep_dropoff_datetime'])"
   ]
  },
  {
   "cell_type": "code",
   "execution_count": 25,
   "metadata": {},
   "outputs": [],
   "source": [
    "df['pickup_day']=df['pickup_datetime'].dt.day_name()\n",
    "df['dropoff_day']=df['dropoff_datetime'].dt.day_name()"
   ]
  },
  {
   "cell_type": "code",
   "execution_count": 27,
   "metadata": {},
   "outputs": [],
   "source": [
    "df['pickup_day_no']=df['pickup_datetime'].dt.weekday\n",
    "df['dropoff_day_no']=df['dropoff_datetime'].dt.weekday"
   ]
  },
  {
   "cell_type": "code",
   "execution_count": 28,
   "metadata": {},
   "outputs": [],
   "source": [
    "df['pickup_hour']=df['pickup_datetime'].dt.hour\n",
    "df['dropoff_hour']=df['dropoff_datetime'].dt.hour"
   ]
  },
  {
   "cell_type": "code",
   "execution_count": 30,
   "metadata": {},
   "outputs": [],
   "source": [
    "df['pickup_month']=df['pickup_datetime'].dt.month\n",
    "df['dropoff_month']=df['dropoff_datetime'].dt.month"
   ]
  },
  {
   "cell_type": "code",
   "execution_count": 31,
   "metadata": {},
   "outputs": [],
   "source": [
    "def time_of_day(x):\n",
    "    if x in range(6,12):\n",
    "        return 'Morning'\n",
    "    elif x in range(12,16):\n",
    "        return 'Afternoon'\n",
    "    elif x in range(16,22):\n",
    "        return 'Evening'\n",
    "    else:\n",
    "        return 'Late night'"
   ]
  },
  {
   "cell_type": "code",
   "execution_count": 38,
   "metadata": {},
   "outputs": [],
   "source": [
    "df['pickup_timeofday'] = df['pickup_hour'].apply(time_of_day)\n"
   ]
  },
  {
   "cell_type": "code",
   "execution_count": 39,
   "metadata": {},
   "outputs": [],
   "source": [
    "df['dropoff_timeofday']=df['dropoff_hour'].apply(time_of_day)"
   ]
  },
  {
   "cell_type": "code",
   "execution_count": 46,
   "metadata": {},
   "outputs": [
    {
     "name": "stdout",
     "output_type": "stream",
     "text": [
      "Collecting geopy\n",
      "  Downloading geopy-2.2.0-py3-none-any.whl (118 kB)\n",
      "\u001b[K     |████████████████████████████████| 118 kB 89 kB/s eta 0:00:01\n",
      "\u001b[?25hCollecting geographiclib<2,>=1.49\n",
      "  Downloading geographiclib-1.52-py3-none-any.whl (38 kB)\n",
      "Installing collected packages: geographiclib, geopy\n",
      "Successfully installed geographiclib-1.52 geopy-2.2.0\n",
      "Note: you may need to restart the kernel to use updated packages.\n"
     ]
    }
   ],
   "source": [
    "pip install geopy\n"
   ]
  },
  {
   "cell_type": "code",
   "execution_count": 41,
   "metadata": {},
   "outputs": [],
   "source": [
    "import pandas as pd       #data processing\n",
    "import numpy as np"
   ]
  },
  {
   "cell_type": "code",
   "execution_count": 42,
   "metadata": {},
   "outputs": [],
   "source": [
    "#data visualisation\n",
    "import seaborn as sns     \n",
    "sns.set()\n",
    "import matplotlib.pyplot as plt\n",
    "%matplotlib inline"
   ]
  },
  {
   "cell_type": "code",
   "execution_count": 47,
   "metadata": {},
   "outputs": [],
   "source": [
    "from geopy.distance import great_circle"
   ]
  },
  {
   "cell_type": "code",
   "execution_count": 44,
   "metadata": {},
   "outputs": [],
   "source": [
    "import warnings; warnings.simplefilter('ignore')"
   ]
  },
  {
   "cell_type": "code",
   "execution_count": 50,
   "metadata": {},
   "outputs": [],
   "source": [
    "df['Duration'] = df['dropoff_datetime'] - df['pickup_datetime']"
   ]
  },
  {
   "cell_type": "code",
   "execution_count": 51,
   "metadata": {},
   "outputs": [
    {
     "data": {
      "text/plain": [
       "0        0 days 00:16:24\n",
       "1        0 days 00:33:40\n",
       "2        0 days 00:13:40\n",
       "3        0 days 00:17:54\n",
       "4        0 days 00:11:16\n",
       "               ...      \n",
       "799131   0 days 00:13:00\n",
       "799132   0 days 00:23:00\n",
       "799133   0 days 00:13:00\n",
       "799134   0 days 00:37:00\n",
       "799135   0 days 00:28:00\n",
       "Name: Duration, Length: 799136, dtype: timedelta64[ns]"
      ]
     },
     "execution_count": 51,
     "metadata": {},
     "output_type": "execute_result"
    }
   ],
   "source": [
    "df['Duration']"
   ]
  },
  {
   "cell_type": "code",
   "execution_count": 53,
   "metadata": {},
   "outputs": [],
   "source": [
    "df['Duration2']= df['Duration'] / datetime.timedelta(milliseconds=1)"
   ]
  },
  {
   "cell_type": "code",
   "execution_count": 54,
   "metadata": {},
   "outputs": [
    {
     "data": {
      "text/plain": [
       "<AxesSubplot:xlabel='Duration2', ylabel='Count'>"
      ]
     },
     "execution_count": 54,
     "metadata": {},
     "output_type": "execute_result"
    },
    {
     "data": {
      "image/png": "[encoded data removed]",
      "text/plain": [
       "<Figure size 432x288 with 1 Axes>"
      ]
     },
     "metadata": {
      "needs_background": "light"
     },
     "output_type": "display_data"
    }
   ],
   "source": [
    "sns.histplot(df['Duration2'],kde=False,bins=20)"
   ]
  },
  {
   "cell_type": "code",
   "execution_count": 55,
   "metadata": {},
   "outputs": [
    {
     "data": {
      "text/plain": [
       "0          984000.0\n",
       "1         2020000.0\n",
       "2          820000.0\n",
       "3         1074000.0\n",
       "4          676000.0\n",
       "            ...    \n",
       "799131     780000.0\n",
       "799132    1380000.0\n",
       "799133     780000.0\n",
       "799134    2220000.0\n",
       "799135    1680000.0\n",
       "Name: Duration2, Length: 799136, dtype: float64"
      ]
     },
     "execution_count": 55,
     "metadata": {},
     "output_type": "execute_result"
    }
   ],
   "source": [
    "df['Duration2']"
   ]
  },
  {
   "cell_type": "code",
   "execution_count": 57,
   "metadata": {},
   "outputs": [
    {
     "data": {
      "text/plain": [
       "<AxesSubplot:xlabel='Duration2'>"
      ]
     },
     "execution_count": 57,
     "metadata": {},
     "output_type": "execute_result"
    },
    {
     "data": {
      "image/png": "[encoded data removed]",
      "text/plain": [
       "<Figure size 432x288 with 1 Axes>"
      ]
     },
     "metadata": {
      "needs_background": "light"
     },
     "output_type": "display_data"
    }
   ],
   "source": [
    "sns.boxplot(df['Duration2'])"
   ]
  },
  {
   "cell_type": "code",
   "execution_count": 59,
   "metadata": {},
   "outputs": [
    {
     "data": {
      "text/plain": [
       "190988     86382000.0\n",
       "767583     86377000.0\n",
       "114731     86377000.0\n",
       "235905     86374000.0\n",
       "536462     86351000.0\n",
       "             ...     \n",
       "638543       -10000.0\n",
       "606637       -10000.0\n",
       "638737       -10000.0\n",
       "638545       -10000.0\n",
       "155700   -326180000.0\n",
       "Name: Duration2, Length: 799136, dtype: float64"
      ]
     },
     "execution_count": 59,
     "metadata": {},
     "output_type": "execute_result"
    }
   ],
   "source": [
    "df['Duration2'].sort_values(ascending=False)"
   ]
  },
  {
   "cell_type": "code",
   "execution_count": 60,
   "metadata": {},
   "outputs": [],
   "source": [
    "df.drop(df[df['Duration2'] < 0].index, inplace = True)"
   ]
  },
  {
   "cell_type": "code",
   "execution_count": 61,
   "metadata": {},
   "outputs": [
    {
     "data": {
      "text/plain": [
       "190988    86382000.0\n",
       "767583    86377000.0\n",
       "114731    86377000.0\n",
       "235905    86374000.0\n",
       "628607    86351000.0\n",
       "             ...    \n",
       "443989           0.0\n",
       "253520           0.0\n",
       "197532           0.0\n",
       "253485           0.0\n",
       "258304           0.0\n",
       "Name: Duration2, Length: 799130, dtype: float64"
      ]
     },
     "execution_count": 61,
     "metadata": {},
     "output_type": "execute_result"
    }
   ],
   "source": [
    "df['Duration2'].sort_values(ascending=False)"
   ]
  },
  {
   "cell_type": "code",
   "execution_count": 72,
   "metadata": {},
   "outputs": [
    {
     "data": {
      "image/png": "[encoded data removed]",
      "text/plain": [
       "<Figure size 1440x360 with 2 Axes>"
      ]
     },
     "metadata": {
      "needs_background": "light"
     },
     "output_type": "display_data"
    }
   ],
   "source": [
    "figure,(ax1,ax2)=plt.subplots(ncols=2,figsize=(20,5))\n",
    "\n",
    "ax1.set_title('Pickup Days')\n",
    "ax=sns.countplot(x=\"pickup_day\",data=df,ax=ax1)\n",
    "\n",
    "ax2.set_title('Dropoff Days')\n",
    "ax=sns.countplot(x=\"dropoff_day\",data=df,ax=ax2)"
   ]
  },
  {
   "cell_type": "code",
   "execution_count": 74,
   "metadata": {},
   "outputs": [
    {
     "data": {
      "image/png": "[encoded data removed]",
      "text/plain": [
       "<Figure size 1440x360 with 2 Axes>"
      ]
     },
     "metadata": {
      "needs_background": "light"
     },
     "output_type": "display_data"
    }
   ],
   "source": [
    "figure,(ax9,ax10)=plt.subplots(ncols=2,figsize=(20,5))\n",
    "\n",
    "ax9.set_title('Pickup Days')\n",
    "ax=sns.countplot(x=\"pickup_hour\",data=df,ax=ax9)\n",
    "\n",
    "ax10.set_title('Dropoff Days')\n",
    "ax=sns.countplot(x=\"dropoff_hour\",data=df,ax=ax10)"
   ]
  },
  {
   "cell_type": "code",
   "execution_count": 76,
   "metadata": {},
   "outputs": [
    {
     "data": {
      "image/png": "[encoded data removed]",
      "text/plain": [
       "<Figure size 1440x360 with 2 Axes>"
      ]
     },
     "metadata": {
      "needs_background": "light"
     },
     "output_type": "display_data"
    }
   ],
   "source": [
    "figure,(ax3,ax4)=plt.subplots(ncols=2,figsize=(20,5))\n",
    "ax3.set_title('Pickup Time of Day')\n",
    "ax=sns.countplot(x=\"pickup_timeofday\",data=df,ax=ax3)\n",
    "\n",
    "ax4.set_title('Dropoff Time of Day')\n",
    "ax=sns.countplot(x=\"dropoff_timeofday\",data=df,ax=ax4)"
   ]
  },
  {
   "cell_type": "code",
   "execution_count": 78,
   "metadata": {},
   "outputs": [
    {
     "data": {
      "image/png": "[encoded data removed]",
      "text/plain": [
       "<Figure size 1440x360 with 2 Axes>"
      ]
     },
     "metadata": {
      "needs_background": "light"
     },
     "output_type": "display_data"
    }
   ],
   "source": [
    "figure,(ax11,ax12)=plt.subplots(ncols=2,figsize=(20,5))\n",
    "ax11.set_title('Pickup Month')\n",
    "ax=sns.countplot(x=\"pickup_month\",data=df,ax=ax11)\n",
    "ax12.set_title('Dropoff Month')\n",
    "ax=sns.countplot(x=\"dropoff_month\",data=df,ax=ax12)"
   ]
  },
  {
   "cell_type": "code",
   "execution_count": 82,
   "metadata": {},
   "outputs": [
    {
     "data": {
      "text/plain": [
       "<AxesSubplot:xlabel='pickup_hour', ylabel='Duration2'>"
      ]
     },
     "execution_count": 82,
     "metadata": {},
     "output_type": "execute_result"
    },
    {
     "data": {
      "image/png": "[encoded data removed]",
      "text/plain": [
       "<Figure size 432x288 with 1 Axes>"
      ]
     },
     "metadata": {
      "needs_background": "light"
     },
     "output_type": "display_data"
    }
   ],
   "source": [
    "sns.lineplot(x='pickup_hour',y='Duration2',data=df)"
   ]
  },
  {
   "cell_type": "code",
   "execution_count": 84,
   "metadata": {},
   "outputs": [
    {
     "data": {
      "text/plain": [
       "<AxesSubplot:xlabel='pickup_timeofday', ylabel='Duration2'>"
      ]
     },
     "execution_count": 84,
     "metadata": {},
     "output_type": "execute_result"
    },
    {
     "data": {
      "image/png": "[encoded data removed]",
      "text/plain": [
       "<Figure size 432x288 with 1 Axes>"
      ]
     },
     "metadata": {
      "needs_background": "light"
     },
     "output_type": "display_data"
    }
   ],
   "source": [
    "sns.lineplot(x='pickup_timeofday',y='Duration2',data=df)"
   ]
  },
  {
   "cell_type": "code",
   "execution_count": 86,
   "metadata": {},
   "outputs": [
    {
     "data": {
      "text/plain": [
       "<AxesSubplot:xlabel='pickup_month', ylabel='Duration2'>"
      ]
     },
     "execution_count": 86,
     "metadata": {},
     "output_type": "execute_result"
    },
    {
     "data": {
      "image/png": "[encoded data removed]",
      "text/plain": [
       "<Figure size 432x288 with 1 Axes>"
      ]
     },
     "metadata": {
      "needs_background": "light"
     },
     "output_type": "display_data"
    }
   ],
   "source": [
    "sns.lineplot(x='pickup_month',y='Duration2',data=df)"
   ]
  },
  {
   "cell_type": "code",
   "execution_count": 108,
   "metadata": {},
   "outputs": [
    {
     "data": {
      "text/plain": [
       "<AxesSubplot:xlabel='pickup_month', ylabel='trip_distance'>"
      ]
     },
     "execution_count": 108,
     "metadata": {},
     "output_type": "execute_result"
    },
    {
     "data": {
      "image/png": "[encoded data removed]",
      "text/plain": [
       "<Figure size 432x288 with 1 Axes>"
      ]
     },
     "metadata": {
      "needs_background": "light"
     },
     "output_type": "display_data"
    }
   ],
   "source": [
    "sns.lineplot(x='pickup_month',y='trip_distance',data=df)"
   ]
  },
  {
   "cell_type": "code",
   "execution_count": 105,
   "metadata": {},
   "outputs": [],
   "source": [
    "df['speed'] = df['trip_distance'] / df['Duration2']"
   ]
  },
  {
   "cell_type": "code",
   "execution_count": 106,
   "metadata": {},
   "outputs": [
    {
     "data": {
      "text/plain": [
       "0         0.000003\n",
       "1         0.000000\n",
       "2         0.000003\n",
       "3         0.000002\n",
       "4         0.000002\n",
       "            ...   \n",
       "799131    0.000002\n",
       "799132    0.000008\n",
       "799133    0.000008\n",
       "799134    0.000008\n",
       "799135    0.000003\n",
       "Name: speed, Length: 799130, dtype: float64"
      ]
     },
     "execution_count": 106,
     "metadata": {},
     "output_type": "execute_result"
    }
   ],
   "source": [
    "df['speed']"
   ]
  },
  {
   "cell_type": "code",
   "execution_count": 107,
   "metadata": {},
   "outputs": [
    {
     "data": {
      "text/plain": [
       "264275    inf\n",
       "110675    inf\n",
       "523451    inf\n",
       "636941    inf\n",
       "636940    inf\n",
       "         ... \n",
       "791510    NaN\n",
       "793872    NaN\n",
       "794046    NaN\n",
       "797003    NaN\n",
       "798947    NaN\n",
       "Name: speed, Length: 799130, dtype: float64"
      ]
     },
     "execution_count": 107,
     "metadata": {},
     "output_type": "execute_result"
    }
   ],
   "source": [
    "df['speed'].sort_values(ascending=False)"
   ]
  },
  {
   "cell_type": "code",
   "execution_count": 104,
   "metadata": {},
   "outputs": [
    {
     "data": {
      "text/plain": [
       "<AxesSubplot:xlabel='speed'>"
      ]
     },
     "execution_count": 104,
     "metadata": {},
     "output_type": "execute_result"
    },
    {
     "data": {
      "image/png": "[encoded data removed]",
      "text/plain": [
       "<Figure size 432x288 with 1 Axes>"
      ]
     },
     "metadata": {
      "needs_background": "light"
     },
     "output_type": "display_data"
    }
   ],
   "source": [
    "sns.boxplot(df['speed'])"
   ]
  },
  {
   "cell_type": "code",
   "execution_count": 102,
   "metadata": {},
   "outputs": [],
   "source": [
    "df['speed'] = df.drop(df[df['speed'] == 'NaN'].index, inplace = True)"
   ]
  },
  {
   "cell_type": "code",
   "execution_count": null,
   "metadata": {},
   "outputs": [],
   "source": []
  },
  {
   "cell_type": "code",
   "execution_count": 94,
   "metadata": {},
   "outputs": [
    {
     "data": {
      "text/plain": [
       "<AxesSubplot:xlabel='pickup_month', ylabel='speed'>"
      ]
     },
     "execution_count": 94,
     "metadata": {},
     "output_type": "execute_result"
    },
    {
     "data": {
      "image/png": "[encoded data removed]",
      "text/plain": [
       "<Figure size 432x288 with 1 Axes>"
      ]
     },
     "metadata": {
      "needs_background": "light"
     },
     "output_type": "display_data"
    }
   ],
   "source": [
    "sns.lineplot(x='pickup_month',y='speed',data=df)"
   ]
  },
  {
   "cell_type": "code",
   "execution_count": null,
   "metadata": {},
   "outputs": [],
   "source": [
    "figure,(ax11,ax12)=plt.subplots(ncols=2,figsize=(20,5))\n",
    "ax11.set_title('Pickup Month')\n",
    "ax=sns.countplot(x=\"pickup_month\",data=df,ax=ax11)\n",
    "ax12.set_title('Dropoff Month')\n",
    "ax=sns.countplot(x=\"dropoff_month\",data=df,ax=ax12)"
   ]
  },
  {
   "cell_type": "code",
   "execution_count": null,
   "metadata": {},
   "outputs": [],
   "source": []
  },
  {
   "cell_type": "code",
   "execution_count": null,
   "metadata": {},
   "outputs": [],
   "source": []
  },
  {
   "cell_type": "code",
   "execution_count": null,
   "metadata": {},
   "outputs": [],
   "source": []
  }
 ],
 "metadata": {
  "kernelspec": {
   "display_name": "Python 3",
   "language": "python",
   "name": "python3"
  },
  "language_info": {
   "codemirror_mode": {
    "name": "ipython",
    "version": 3
   },
   "file_extension": ".py",
   "mimetype": "text/x-python",
   "name": "python",
   "nbconvert_exporter": "python",
   "pygments_lexer": "ipython3",
   "version": "3.8.5"
  }
 },
 "nbformat": 4,
 "nbformat_minor": 4
}
